{
 "cells": [
  {
   "cell_type": "code",
   "execution_count": null,
   "id": "6d425322",
   "metadata": {},
   "outputs": [],
   "source": [
    "import pandas as pd\n",
    "import numpy as np\n",
    "import talib as ta\n",
    "import mplfinance as mpf\n",
    "import matplotlib.pyplot as plt"
   ]
  },
  {
   "cell_type": "code",
   "execution_count": null,
   "id": "ef20a93b",
   "metadata": {},
   "outputs": [],
   "source": [
    "df = pd.read_csv(\"zijin.csv\")\n",
    "df = df[df[\"tradestatus\"] == 1]\n",
    "df = df[[\"Date\",\"Open\",\"High\",\"Low\",\"Close\"]]"
   ]
  },
  {
   "cell_type": "code",
   "execution_count": null,
   "id": "45c4bce5",
   "metadata": {},
   "outputs": [],
   "source": [
    "df[\"ln\"] = df[\"Low\"].rolling(9).min()\n",
    "df[\"hn\"] = df[\"High\"].rolling(9).max()\n",
    "df[\"rsv\"] = (df[\"Close\"] - df[\"ln\"])/(df[\"hn\"] - df[\"ln\"]) * 100"
   ]
  },
  {
   "cell_type": "code",
   "execution_count": null,
   "id": "87977c20",
   "metadata": {},
   "outputs": [],
   "source": [
    "df[\"Date\"] = pd.to_datetime(df[\"Date\"])\n",
    "df.index = df[\"Date\"]\n",
    "df[\"K\"] = 50 \n",
    "df[\"D\"] = 50 \n",
    "df[\"J\"] = 50 \n",
    "\n",
    "for i in range(10,len(df[\"Date\"])):\n",
    "    df[\"K\"].iloc[i] = 2/3*df[\"K\"].iloc[i-1]+df[\"rsv\"].iloc[i]/3\n",
    "    \n",
    "for i in range(10,len(df[\"Date\"])):\n",
    "    df[\"D\"].iloc[i] = 2/3*df[\"D\"].iloc[i-1]+df[\"K\"].iloc[i]/3\n",
    "    \n",
    "df[\"J\"] = 3*df[\"K\"] - 2*df[\"D\"]"
   ]
  },
  {
   "cell_type": "code",
   "execution_count": null,
   "id": "068a1848",
   "metadata": {},
   "outputs": [],
   "source": [
    "fig = plt.figure()\n",
    "fig.set_size_inches((25, 18))\n",
    "kdj = fig.add_axes((0, 0.24, 1, 0.5))\n",
    "kdj.plot(df.index, df[\"K\"], label=\"K\")\n",
    "kdj.plot(df.index, df[\"D\"], label=\"D\")\n",
    "kdj.plot(df.index, df[\"J\"], label=\"J\")\n",
    "kdj.plot(df.index, [90] * len(df.index), label=\"K_overbought\")\n",
    "kdj.plot(df.index, [80] * len(df.index), label=\"D_overbought\")\n",
    "kdj.plot(df.index, [50] * len(df.index), label=\"no trend\")\n",
    "kdj.plot(df.index, [20] * len(df.index), label=\"D_oversold\")\n",
    "kdj.plot(df.index, [10] * len(df.index), label=\"K_oversold\")\n",
    "\n",
    "kdj.legend()"
   ]
  },
  {
   "cell_type": "code",
   "execution_count": null,
   "id": "2c80be41",
   "metadata": {},
   "outputs": [],
   "source": [
    "df[\"position\"] = None \n",
    "df[\"trade\"] = None \n",
    "bd = []\n",
    "bp = []\n",
    "sd = []\n",
    "sp = []\n",
    "for i in range(len(df.index)): \n",
    "    if df[\"D\"].iloc[i-1] > df[\"K\"].iloc[i-1] and df[\"D\"].iloc[i] < df[\"K\"].iloc[i] and df[\"D\"].iloc[i]<30 :\n",
    "        df[\"position\"].iloc[i] = 'oversold'\n",
    "    elif df[\"D\"].iloc[i-1] < df[\"K\"].iloc[i-1] and df[\"D\"].iloc[i] > df[\"K\"].iloc[i] and df[\"D\"].iloc[i]>70 :\n",
    "        df[\"position\"].iloc[i] = 'overbought'\n",
    "    else:\n",
    "        df[\"position\"].iloc[i] = None\n",
    "for i in range(len(df[\"position\"])):\n",
    "    if df[\"position\"].iloc[i-1] == 'oversold' and df[\"position\"].iloc[i] == None:\n",
    "        df[\"trade\"].iloc[i] = \"buy\"\n",
    "        bd.append(df[\"Date\"].iloc[i])\n",
    "        bp.append(df[\"Close\"].iloc[i])\n",
    "    if df[\"position\"].iloc[i-1] == 'overbought' and df[\"position\"].iloc[i] == None:\n",
    "        df[\"trade\"].iloc[i] = \"sell\"\n",
    "        sd.append(df[\"Date\"].iloc[i])\n",
    "        sp.append(df[\"Close\"].iloc[i])"
   ]
  },
  {
   "cell_type": "code",
   "execution_count": null,
   "id": "25024e5d",
   "metadata": {},
   "outputs": [],
   "source": [
    "fig = plt.figure()\n",
    "fig.set_size_inches((25, 18))\n",
    "kline = fig.add_axes((0, 0.24, 1, 0.5))\n",
    "kline.plot(df.index, df[\"Close\"], label = \"K line\")\n",
    "kline.plot(bd,bp,\"ro\", label = \"buy position\")\n",
    "kline.plot(sd,sp,\"ks\", label = \"sell position\")\n",
    "\n",
    "kline.legend()"
   ]
  },
  {
   "cell_type": "code",
   "execution_count": null,
   "id": "1d04c283",
   "metadata": {},
   "outputs": [],
   "source": []
  }
 ],
 "metadata": {
  "kernelspec": {
   "display_name": "Python 3 (ipykernel)",
   "language": "python",
   "name": "python3"
  },
  "language_info": {
   "codemirror_mode": {
    "name": "ipython",
    "version": 3
   },
   "file_extension": ".py",
   "mimetype": "text/x-python",
   "name": "python",
   "nbconvert_exporter": "python",
   "pygments_lexer": "ipython3",
   "version": "3.9.7"
  }
 },
 "nbformat": 4,
 "nbformat_minor": 5
}
